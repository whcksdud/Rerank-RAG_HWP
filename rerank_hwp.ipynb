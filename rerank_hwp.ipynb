{
 "cells": [
  {
   "cell_type": "code",
   "execution_count": 3,
   "metadata": {},
   "outputs": [
    {
     "name": "stderr",
     "output_type": "stream",
     "text": [
      "Token indices sequence length is longer than the specified maximum sequence length for this model (700 > 512). Running this sequence through the model will result in indexing errors\n"
     ]
    }
   ],
   "source": [
    "from langchain_teddynote.document_loaders import HWPLoader\n",
    "from transformers import AutoTokenizer\n",
    "from langchain_community.embeddings.huggingface import HuggingFaceEmbeddings\n",
    "from langchain_text_splitters import RecursiveCharacterTextSplitter\n",
    "import os\n",
    "\n",
    "\"\"\"\n",
    "# HWP Loader 객체 생성\n",
    "loader = HWPLoader(\"./name.hwp\")\n",
    "# 문서 로드\n",
    "docs = loader.load()\n",
    "\"\"\"\n",
    "\n",
    "file_paths = \"./hwpfd\"\n",
    "def search(dirname):\n",
    "    filenames = os.listdir(dirname)\n",
    "    dir =[]\n",
    "    for filename in filenames:\n",
    "        full_filename = os.path.join(dirname, filename)\n",
    "        ext = os.path.splitext(full_filename)[-1]\n",
    "        if ext == '.hwp': \n",
    "            dir.append(full_filename)\n",
    "    return dir\n",
    "file_paths=search(file_paths)\n",
    "embedding_model_name = \"jhgan/ko-sroberta-nli\"\n",
    "embeddings_model = HuggingFaceEmbeddings(\n",
    "                model_name = embedding_model_name,\n",
    "                model_kwargs = {\"device\": \"cuda\"},\n",
    "                encode_kwargs={'normalize_embeddings':True}\n",
    "    )\n",
    "tokenizer = AutoTokenizer.from_pretrained(embedding_model_name)\n",
    "text_splitter = RecursiveCharacterTextSplitter.from_huggingface_tokenizer(\n",
    "                  tokenizer = tokenizer,\n",
    "                  chunk_size = 512,\n",
    "                  chunk_overlap  = 64,\n",
    "                  is_separator_regex = False)\n",
    "docs = []\n",
    "for file_path in file_paths:\n",
    "        _, file_extension = os.path.splitext(file_path)\n",
    "        file_extension = file_extension.lower()\n",
    "        #\n",
    "        if file_extension == \".hwp\":\n",
    "            loader = HWPLoader(file_path)\n",
    "            documents = loader.load_and_split(text_splitter=text_splitter)\n",
    "        else:\n",
    "            raise ValueError(f\"Unsupported file type: {file_extension}\")\n",
    "\n",
    "        docs.extend(documents)\n",
    "\n"
   ]
  },
  {
   "cell_type": "code",
   "execution_count": 24,
   "metadata": {},
   "outputs": [
    {
     "name": "stdout",
     "output_type": "stream",
     "text": [
      "86\n",
      "[Document(metadata={'source': './hwpfd\\\\EXCS 10 20 20 지반조사.hwp'}, page_content='10 20 20 :2018∙ 건설기준 코드체계 전환에 따라 코드화로 통합 정비함제정(2018.6)EXCS 10 20 20 :2021∙ 코드체계화 이후 최신 건설기준을 신속히 적용하기 위해 개정함개정(2021.10)제       정  :  2018년   6월   19일심       의  :  중앙건설기술심의위원회소 관 부 서  :  국토교통부 도로정책과개       정  :  2021년  10월  19일자 문 검 토  :  국가건설기준센터 건설기준위원회관련단체 (작성기관) : 한국도로공사 (도로교통연구원)'), Document(metadata={'source': './hwpfd\\\\EXCS 10 20 20 지반조사.hwp'}, page_content='목 차 1. 일반사항ȃ 11.1 적용 범위䏈ȃ 11.1.1 지반조사계획㩨ȃ 11.1.2 지표지질조사㩨ȃ 11.1.3 물리탐사䊐ȃ 11.1.4 시추조사䊐ȃ 11.1.5 시험굴조사와 핸드오거보링ᾬȃ 11.1.6 원위치시험과 시험굴착⟔ȃ 11.1.7 시료채취䊐ȃ 11.1.8 토질시험䊐ȃ 11.1.9 암석시험䊐ȃ 21.2 참고 기준䏈ȃ 21.2.1 지반조사계획㩨ȃ 21.2.2 지표지질조사㩨ȃ 21.2.3 물리탐사䊐ȃ 21.2.4 시추조사䊐ȃ 21.2.5 시험굴조사와 핸드오거보링ᾬȃ 21.2.6 원위치시험과 시험굴차⟔ȃ 21.2.7 시료채취䊐ȃ 21.2.8 토질시험䊐ȃ 31.2.9 암석시험䊐ȃ 31.3 용어의 정의㾴ȃ 41.4 제출물䨠ȃ 41.4.1 지반조사계획㩨ȃ 41.4.2 지표지질조사㩨ȃ 41.4.3 물리탐사䊐ȃ 41.4.4 시추조사䊐ȃ'), Document(metadata={'source': './hwpfd\\\\EXCS 10 20 20 지반조사.hwp'}, page_content='지반조사계획㩨ȃ 41.4.2 지표지질조사㩨ȃ 41.4.3 물리탐사䊐ȃ 41.4.4 시추조사䊐ȃ 41.4.5 시험굴조사와 핸드오거보링ᾬȃ 41.4.6 원위치시험과 시험굴착⟔ȃ 5목 차 1.4.7 시료채취䊐ȃ 51.4.8 토질시험䊐ȃ 51.4.9 암석시험䊐ȃ 52. 자재ȃ 53. 시공ȃ 63.1 지반조사계획㷤ȃ 63.1.1 예비조사 및 계획수립⦤ȃ 63.1.2 현장조사 및 시료채취⦤ȃ 63.1.3 실내시험䊐ȃ 63.1.4 지반조사보고서㙔ȃ 73.2 지표지질조사㷤ȃ 73.2.1 일반䪸ȃ 73.2.2 지표지질조사㩨ȃ 73.3 물리탐사䘌ȃ 83.3.1 일반 䡴ȃ 83.3.2 탄성파 탐사 㧴ȃ 83.3.3 전기비저항탐사㙔ȃ 83.3.4 전자탐사䊐ȃ 93.3.5 지표레이다(GPR)탐사⫐ȃ 93.3.6 시추공간 물리탐사ȃ 93.3.7 공내물리검층㠤ȃ'), Document(metadata={'source': './hwpfd\\\\EXCS 10 20 20 지반조사.hwp'}, page_content='93.3.5 지표레이다(GPR)탐사⫐ȃ 93.3.6 시추공간 물리탐사ȃ 93.3.7 공내물리검층㠤ȃ 103.4 시추조사䏈ȃ 103.4.1 일반䡴ȃ 113.4.2 시추기의 종류㗠ȃ 113.4.3 시추공의 크기, 간격 및 심도ȃ 113.4.4 시추관리䁌ȃ 113.5 시험굴조사와 핸드오거보링⃤ȃ 123.5.1 일반䡴ȃ 123.5.2 시험굴조사㹼ȃ13목 차 3.5.3 핸드오거보링㩨ȃ133.6 원위치시험과 시험굴착⤌ȃ 133.6.1 일반䪸ȃ133.6.2 표준관입시험㩨ȃ133.6.3 스웨덴식 콘관입 시험⦤ȃ143.6.4 현장베인전단시험㉀ȃ143.6.5 더치 콘 관입시험(dutch cone penetrometer)ڼȃ143.6.6 피에조 콘 관입시험(piezo cone penetrometer)ࣤȃ153.6.7 공내수평재하시험 ȃ153.6.8 현장투수시험㩨ȃ153.6.9 공내전단시험㩨ȃ163.6.10 공내영상촬영㠤ȃ163.6.11 수압파쇄시험㠤ȃ163.6.12 시험굴착䁌ȃ163.7 시료채취䏈ȃ')]\n"
     ]
    }
   ],
   "source": [
    "print(len(docs))\n",
    "print(docs[4:8])"
   ]
  },
  {
   "cell_type": "code",
   "execution_count": 7,
   "metadata": {},
   "outputs": [],
   "source": [
    "from langchain.retrievers import EnsembleRetriever\n",
    "from langchain_community.retrievers import BM25Retriever\n",
    "from langchain.vectorstores import FAISS\n",
    "\n",
    "vectorstore = FAISS.from_documents(docs, embedding=embeddings_model)\n",
    "vec_retriever = vectorstore.as_retriever(search_type=\"mmr\", search_kwargs={'k': 5})\n",
    "bm25_retriever = BM25Retriever.from_documents(docs)\n",
    "bm25_retriever.k = 5\n",
    "ensemble_retriever = EnsembleRetriever(\n",
    "        retrievers=[bm25_retriever, vec_retriever],  \n",
    "        weights=[0.7, 0.3],  \n",
    "        search_type=\"mmr\",  \n",
    "    )"
   ]
  },
  {
   "cell_type": "code",
   "execution_count": 18,
   "metadata": {},
   "outputs": [
    {
     "data": {
      "text/plain": [
       "[Document(metadata={'source': './hwpfd\\\\EXCS 10 20 20 지반조사.hwp'}, page_content='명소 속성 명소 속장순재국토교통부 도로정책과김 호국토교통부 도로정책과고속도로공사 전문시방서EXCS 10 20 20 : 2021지반조사2021년 10월 발행소관부서 국토교통부관련단체 한국도로공사(39660) 경상북도 김천시 혁신8로 77 한국도로공사☎ 1588-2504(대표)http://www.ex.co.kr 작성기관 한국도로공사 도로교통연구원(18489) 경기도 화성시 동부대로 922번길 208-96☎ 031-8098-6044(품질시험센터)http://www.ex.co.kr/research국가건설기준센터(10223) 경기도 고양시 일산서구 고양대로 283(대화동)☎ 031-910-0444http://www.kcsc.re.kr'),\n",
       " Document(metadata={'source': './hwpfd\\\\EXCS 10 20 20 지반조사.hwp'}, page_content='재측정하여야 한다.(8) 측정결과는 측선배치도, 주시곡선도, 단면도로 작성하여 정리하여야 한다.(9) 주시곡선도 또는 단면도에는 해석내용을 명시하여야 한다.3.3.3 전기비저항탐사(1) 측선의 배치는 현지의 상황에 따라 조사목적에 지장이 없는 범위 내에서 공사감독자의 승인을 받아 변경할 수 있다.(2) 전극의 배치는 탐사의 목적에 맞게 설정하고, 전극의 간격은 탐사하고자 하는 지반의 심도와 전극배열에 따라 적절히 선택할 수 있다.(3) 특히, 탐사 대상 전구간이 포함될 수 있도록 탐사측선의 연장을 충분히 계획하고, 가탐심도 및 해상도를 감안하여 적용하여야 하며, 대상구조물의 하부 지반상태를 판단할 수 있어야 한다.(4) 전극의'),\n",
       " Document(metadata={'source': './hwpfd\\\\EXCS 10 20 20 지반조사.hwp'}, page_content='할 때 문제가 발생할 수 있는 취약구간(파쇄대, 연약대 등)에 대해서는 공사감독자와 협의하여 보완조사를 실시하여야 한다.(3) 노선선정과정에서 행정도서를 포함한 지질도, 지형도, 지역조사 등이 선행되어야 한다.(4) 시추조사는 표준관입시험 및 흐트러진 시료채취를 포함하며, 공경은 NX(φ76mm)규격을 표준으로 한다.(5) 현장원위치시험은 시추조사와 병행하여 실시되는 각종 시험(표준관입시험, 공내수평재하시험, 공내투수시험, 현장투수시험, 공내전단시험, 공내영상촬영, 수압파쇄시험, 콘관입시험(CPT), 피에조 콘 관입시험(CPTu), 현장베인전단시험 등)을 포함하며, 공종별 필요한 조사항목을 선정하여 실시하여야 한다.(6) 시료채취는 시추조사에 의한 흐트러진 시료와 흐트러지지 않은 시료 및 지표면에서'),\n",
       " Document(metadata={'source': './hwpfd\\\\EXCS 10 20 20 지반조사.hwp'}, page_content='시료채취는 시추조사에 의한 흐트러진 시료와 흐트러지지 않은 시료 및 지표면에서 채취된 시료를 포함한다.ɢ╢(7) 물리탐사는 탄성파탐사, 전기비저항탐사, 시추공간탄성파탐사 등을 포함하며, 지반의 연속적인 변화 및 위험구간 파악을 위해 실시한다.3.1.3 실내시험(1) 실내시험은 토질시험 및 암석시험을 포함한다.(2) 실내시험은 설계 및 시공에 필요한 지반의 물리․역학적 특성을 규명하여 설계지반정수 산정 및 지반안정성 분석을 위해 실시한다.(3) 시험은 공인된 기관 및 업체에서 숙련된 기술자에 의해 실시하여 시험결과의 신뢰도를 높여야 한다.3.1.4 지반조사보고서(1) 지반조사보고서는 예비조사 및 현장조사, 실내시험 결과 등을 수록하여야 한다.(2) 지반조사보고서는 각'),\n",
       " Document(metadata={'source': './hwpfd\\\\EXCS 10 20 20 지반조사.hwp'}, page_content='예비조사 및 현장조사, 실내시험 결과 등을 수록하여야 한다.(2) 지반조사보고서는 각 조사항목에 따른 성과물을 수록하여야 한다.(3) 보고서에 수록되는 내용은 조사목적과 부합되도록 하여야 하며, 조사결과에 대한 검토내용과 지층별 지반의 특성값 및 설계지반정수를 수록하여야 하며, 필요 시 주의 및 권고사항에 대한 내용도 수록하여야 한다.ɢ╢3.2 지표지질조사ɢ╢3.2.1 일반(1) 지표지질조사 및 막장관찰은 지반공학을 전공한 자 또는 동등 이상의 자격이나 경험을 구비한 자로서 응용지질도 및 터널지질도를 작성하고 지반의 안정성을 평가할 수 있는 자이어야 한다.(2) 실제 지반상태가 설계시의 적용조건과 상이하여 설계보완이 필요할 경우 상세지반조사를 실시하여야'),\n",
       " Document(metadata={'source': './hwpfd\\\\EXCS 10 20 20 지반조사.hwp'}, page_content='있는 보호벽을 제거하여야 하며, 보호벽의 제거가 곤란한 경우에는 주변의 토양을 터파기한 후 지표로부터 깊이 1m 이상 보호벽을 절단하여야 한다.(9) 지하매설물 등의 지장물 예상구간은 시추작업 전 관계기관과의 협의를 통해 매설심도 및 위치를 확인하고 승인을 받은 후 시행하여야 한다.ɢ╢3.5 시험굴조사와 핸드오거보링ɢ╢3.5.1 일반(1) 땅깎기구간에서는 시험굴조사를 200m 간격으로 실시하여 흙쌓기재료의 적정성을 판단할 수 있도록 하며, 흙쌓기구간에서는 핸드오거보링을 200m 간격으로 시행하여 연약지반의 분포유무를 판단할 수 있도록 한다. 현장여건을 고려하여 조사간격은 공사감독자와 협의하여 조정할 수 있다.(2) 모든 토질시료는 통일분류방식으로 분류하며, 시험굴'),\n",
       " Document(metadata={'source': './hwpfd\\\\EXCS 10 20 20 지반조사.hwp'}, page_content='시험구간의 선정은 지층의 대표성과 신뢰성을 확보할 수 있는 구간을 정하여 실시한다.(2) 지층의 구성상태에 따라 LLT(Lateral Load Test, LLT), PMT(Pressure Meter Test, PMT), Goodman-Jack 등의 시험기기를 이용하며, 시험규격을 참고하여 현장 여건에 맞는 장비조합을 구성한다.(3) 시험과정에서 가압하는 하중단계의 크기는 지층의 연경상태에 따라 다르나, 연약한 점토의 경우 15kPa, 굳은 점토의 경우 50kPa, 약한 암반의 경우 100kPa 이상으로 하는 것이 이상적이다. 토사지반의 경우 재하 할 때 한계압력은 시추조사결과를 토대로 개략적으로 판단한 다음에 실시하여야 한다.(4) 변형계수의 산정방법은 장비에 따라'),\n",
       " Document(metadata={'source': './hwpfd\\\\EXCS 10 20 20 지반조사.hwp'}, page_content='정보는 시추주상도에 기록하며, 현장에서 시추공 굴착자 및 조사자는 시추주상도에 다음과 같은 정보를 추가 기록하여야 한다.① 시추조사명 및 시추공번호② 위치 및 조사기간, 굴착자, 조사자 이름③ 시추공 자료 및 지반고(표고)④ 시추공의 수량(심도) 및 종류⑤ 시추장비 및 구경⑥ 지하수위 평가 및 관찰날짜⑦ 지반성층⑧ 표준관입시험값(N) 및 표준관입시험 깊이, 해머종류와 형식⑨ 채취된 흙시료의 깊이, 형태 및 길이⑩ 시험지반 굴착부 각 단면에 대한 실태조사내용이 포함된 도면과 사진 ⑪ 암석코아 채취의 경우 코아회수율(TCR), RQD, 암석명, 색깔, 절리간격과 경사, 절리면의 거칠기 등을 기록하여야 한다.(8) 시추조사 완료'),\n",
       " Document(metadata={'source': './hwpfd\\\\EXCS 10 20 20 지반조사.hwp'}, page_content='상황에 따라 조사목적에 지장이 없는 범위 내에서 공사감독자의 승인을 받아 변경할 수 있다.3.3.5 지표레이다(GPR)탐사(1) 지표레이다 탐사는 지하에 묻혀 있는 대상체를 찾아내거나 지하에 존재하는 불균질대 또는 파쇄대 등의 지질학적 구조를 규명하는데 사용할 수 있다.(2) 탐사는 송수신 안테나를 일정한 간격으로 위치시킨 후 측선을 따라 두 안테나를 동시에 일정 간격씩 옮겨가며 측정한다.ɢ╢(3) 수급인은 지표레이다 탐사결과로 얻어진 자료의 컴퓨터 수치모형 계산(전산처리)을 통하여 구한 레이다 단면을 공사감독자에게 제출하여야 한다.3.3.6 시추공간 물리탐사(1) 시추공간 물리탐사는 2개소 이상의 시추공 사이의 연속적이고 상세한 지반상태를 파악하기'),\n",
       " Document(metadata={'source': './hwpfd\\\\EXCS 10 20 20 지반조사.hwp'}, page_content='굴착기를 사용하여 지표면으로부터 1.2~1.5m 내외의 심도까지 굴착하여 조사한다.3.5.3 핸드오거보링(1) 흙쌓기 예정지역을 대상으로 지층 구성상태에 따른 연약지반 유무를 확인하기 위하여 실시한다.(2) 조사방법은 KS F 2319에 의하며 채취된 시료에 대한 토질분류시험을 실시한다.ɢ╢3.6 원위치시험과 시험굴착ɢ╢3.6.1 일반(1) 원위치시험이라 함은 시추조사와 병행하여 실시되는 각종 시험(표준관입시험, 공내수평재하시험, 공내투수시험, 현장투수시험, 공내전단시험, 공내영상촬영, 수압파쇄시험, 현장베인전단시험 등)과 피에조 콘 관입시험(CPT) 등을 포함한다.(2) 원위치 시험의 항목과 위치는 조사목적과 부합되는 세부 자료를 취득할 목적으로 공사감독자와 협의하여 정한다.ɢ╢(3) 시추조사공 내에서 실시되는')]"
      ]
     },
     "execution_count": 18,
     "metadata": {},
     "output_type": "execute_result"
    }
   ],
   "source": [
    "ensemble_retriever.invoke(\"시험굴조사에서 몇미터로 굴착해야 돼?\")\n",
    "# 10번 정답"
   ]
  },
  {
   "cell_type": "code",
   "execution_count": 9,
   "metadata": {},
   "outputs": [],
   "source": [
    "from langchain_community.cross_encoders import HuggingFaceCrossEncoder\n",
    "from langchain.retrievers.document_compressors import CrossEncoderReranker\n",
    "from langchain.retrievers import ContextualCompressionRetriever\n",
    "\n",
    "rerank_model = HuggingFaceCrossEncoder(model_name=\"Dongjin-kr/ko-reranker\") #reranker모델 로드\n",
    "compressor = CrossEncoderReranker(model=rerank_model, top_n=5)\n",
    "compression_retriever = ContextualCompressionRetriever(base_compressor=compressor, base_retriever=ensemble_retriever)"
   ]
  },
  {
   "cell_type": "code",
   "execution_count": 17,
   "metadata": {},
   "outputs": [
    {
     "data": {
      "text/plain": [
       "[Document(metadata={'source': './hwpfd\\\\EXCS 10 20 20 지반조사.hwp'}, page_content='있는 보호벽을 제거하여야 하며, 보호벽의 제거가 곤란한 경우에는 주변의 토양을 터파기한 후 지표로부터 깊이 1m 이상 보호벽을 절단하여야 한다.(9) 지하매설물 등의 지장물 예상구간은 시추작업 전 관계기관과의 협의를 통해 매설심도 및 위치를 확인하고 승인을 받은 후 시행하여야 한다.ɢ╢3.5 시험굴조사와 핸드오거보링ɢ╢3.5.1 일반(1) 땅깎기구간에서는 시험굴조사를 200m 간격으로 실시하여 흙쌓기재료의 적정성을 판단할 수 있도록 하며, 흙쌓기구간에서는 핸드오거보링을 200m 간격으로 시행하여 연약지반의 분포유무를 판단할 수 있도록 한다. 현장여건을 고려하여 조사간격은 공사감독자와 협의하여 조정할 수 있다.(2) 모든 토질시료는 통일분류방식으로 분류하며, 시험굴'),\n",
       " Document(metadata={'source': './hwpfd\\\\EXCS 10 20 20 지반조사.hwp'}, page_content='굴착기를 사용하여 지표면으로부터 1.2~1.5m 내외의 심도까지 굴착하여 조사한다.3.5.3 핸드오거보링(1) 흙쌓기 예정지역을 대상으로 지층 구성상태에 따른 연약지반 유무를 확인하기 위하여 실시한다.(2) 조사방법은 KS F 2319에 의하며 채취된 시료에 대한 토질분류시험을 실시한다.ɢ╢3.6 원위치시험과 시험굴착ɢ╢3.6.1 일반(1) 원위치시험이라 함은 시추조사와 병행하여 실시되는 각종 시험(표준관입시험, 공내수평재하시험, 공내투수시험, 현장투수시험, 공내전단시험, 공내영상촬영, 수압파쇄시험, 현장베인전단시험 등)과 피에조 콘 관입시험(CPT) 등을 포함한다.(2) 원위치 시험의 항목과 위치는 조사목적과 부합되는 세부 자료를 취득할 목적으로 공사감독자와 협의하여 정한다.ɢ╢(3) 시추조사공 내에서 실시되는'),\n",
       " Document(metadata={'source': './hwpfd\\\\EXCS 10 20 20 지반조사.hwp'}, page_content='정보는 시추주상도에 기록하며, 현장에서 시추공 굴착자 및 조사자는 시추주상도에 다음과 같은 정보를 추가 기록하여야 한다.① 시추조사명 및 시추공번호② 위치 및 조사기간, 굴착자, 조사자 이름③ 시추공 자료 및 지반고(표고)④ 시추공의 수량(심도) 및 종류⑤ 시추장비 및 구경⑥ 지하수위 평가 및 관찰날짜⑦ 지반성층⑧ 표준관입시험값(N) 및 표준관입시험 깊이, 해머종류와 형식⑨ 채취된 흙시료의 깊이, 형태 및 길이⑩ 시험지반 굴착부 각 단면에 대한 실태조사내용이 포함된 도면과 사진 ⑪ 암석코아 채취의 경우 코아회수율(TCR), RQD, 암석명, 색깔, 절리간격과 경사, 절리면의 거칠기 등을 기록하여야 한다.(8) 시추조사 완료'),\n",
       " Document(metadata={'source': './hwpfd\\\\EXCS 10 20 20 지반조사.hwp'}, page_content='시험구간의 선정은 지층의 대표성과 신뢰성을 확보할 수 있는 구간을 정하여 실시한다.(2) 지층의 구성상태에 따라 LLT(Lateral Load Test, LLT), PMT(Pressure Meter Test, PMT), Goodman-Jack 등의 시험기기를 이용하며, 시험규격을 참고하여 현장 여건에 맞는 장비조합을 구성한다.(3) 시험과정에서 가압하는 하중단계의 크기는 지층의 연경상태에 따라 다르나, 연약한 점토의 경우 15kPa, 굳은 점토의 경우 50kPa, 약한 암반의 경우 100kPa 이상으로 하는 것이 이상적이다. 토사지반의 경우 재하 할 때 한계압력은 시추조사결과를 토대로 개략적으로 판단한 다음에 실시하여야 한다.(4) 변형계수의 산정방법은 장비에 따라'),\n",
       " Document(metadata={'source': './hwpfd\\\\EXCS 10 20 20 지반조사.hwp'}, page_content='할 때 문제가 발생할 수 있는 취약구간(파쇄대, 연약대 등)에 대해서는 공사감독자와 협의하여 보완조사를 실시하여야 한다.(3) 노선선정과정에서 행정도서를 포함한 지질도, 지형도, 지역조사 등이 선행되어야 한다.(4) 시추조사는 표준관입시험 및 흐트러진 시료채취를 포함하며, 공경은 NX(φ76mm)규격을 표준으로 한다.(5) 현장원위치시험은 시추조사와 병행하여 실시되는 각종 시험(표준관입시험, 공내수평재하시험, 공내투수시험, 현장투수시험, 공내전단시험, 공내영상촬영, 수압파쇄시험, 콘관입시험(CPT), 피에조 콘 관입시험(CPTu), 현장베인전단시험 등)을 포함하며, 공종별 필요한 조사항목을 선정하여 실시하여야 한다.(6) 시료채취는 시추조사에 의한 흐트러진 시료와 흐트러지지 않은 시료 및 지표면에서')]"
      ]
     },
     "execution_count": 17,
     "metadata": {},
     "output_type": "execute_result"
    }
   ],
   "source": [
    "compression_retriever.invoke(\"시험굴조사에서 몇미터로 굴착해야 돼?\")\n",
    "# 2번 정답"
   ]
  },
  {
   "cell_type": "code",
   "execution_count": 15,
   "metadata": {},
   "outputs": [
    {
     "name": "stdout",
     "output_type": "stream",
     "text": [
      "문서를 참고하면 시험굴 굴착기를 사용하여 지표면으로부터 1.2~1.5m 내외의 심도까지 굴착하여 조사한다고 되어 있습니다.\n"
     ]
    }
   ],
   "source": [
    "from langchain_core.output_parsers import StrOutputParser\n",
    "from langchain_core.runnables import RunnablePassthrough\n",
    "from langchain.prompts import ChatPromptTemplate\n",
    "from langchain_anthropic import ChatAnthropic\n",
    "# Prompt\n",
    "template = \"\"\"\n",
    "다음은 건설지침을 알려주는 시방서 입니다. \n",
    "문서를 보고 질문에 참고한 문서의 내용을 있는 그대로 보여주고 다음 참고 내용 까지 보여주세요.\n",
    "만약 주어진 문서 내용이 관련되지 않았다면, '문서와 관련 없습니다.'라고 답하세요.\n",
    "\n",
    "Answer: {context}\n",
    "\n",
    "Question: {question}\n",
    "\n",
    "답변:\n",
    "\"\"\"\n",
    "\n",
    "from langchain_anthropic import ChatAnthropic\n",
    "anthropic_api_key = \"sk-\"  # 실제 API 키로 대체하세요\n",
    "llm = ChatAnthropic(model=\"claude-3-opus-20240229\", anthropic_api_key=anthropic_api_key)\n",
    "\n",
    "prompt = ChatPromptTemplate.from_template(template)\n",
    "rag_chain = (\n",
    "    {\"context\": compression_retriever, \"question\": RunnablePassthrough()}\n",
    "    | prompt\n",
    "    | llm\n",
    "    | StrOutputParser()\n",
    ")\n",
    "\n",
    "# Chain 실행\n",
    "response = rag_chain.invoke(\"시험굴조사에서 몇미터로 굴착해야 돼?\")\n",
    "print(response)"
   ]
  }
 ],
 "metadata": {
  "kernelspec": {
   "display_name": "Python 3",
   "language": "python",
   "name": "python3"
  },
  "language_info": {
   "codemirror_mode": {
    "name": "ipython",
    "version": 3
   },
   "file_extension": ".py",
   "mimetype": "text/x-python",
   "name": "python",
   "nbconvert_exporter": "python",
   "pygments_lexer": "ipython3",
   "version": "3.12.3"
  }
 },
 "nbformat": 4,
 "nbformat_minor": 2
}
